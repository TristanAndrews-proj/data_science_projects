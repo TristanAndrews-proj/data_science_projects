{
 "cells": [
  {
   "cell_type": "markdown",
   "metadata": {},
   "source": [
    "# Fighting Gambling addiction by gambling Smarter\n",
    "People start playing the lottery for fun, but some people eventually find this activity addictive and become compulsive gamblers who gambles away their savings and loans, and desperately participate in illegal behaviours such theft. \n",
    " A medical institue aims to prevent and treat gambling addiction by building a mobile app that helps lottery addicts better estimate their chances of winning. A Software engineering team will build the app but they need assistance in creating the logical core and calculating the probabilities. \n",
    "For the fist version of the app, we will be focusing on the 6/49 lottery and build functions that would allow users to answer the following questions: \n",
    "- What is the probability of winning the big prize with a single ticket?\n",
    "- What is the probability of winning the big prize if we play 40 different - tickets (or any other number)?\n",
    "- What is the probability of having at least five (or four, or three, or two) winning numbers on a single ticket?\n",
    "\n",
    "First, we'll create two functions: a function that calculates factorials, and one calculates combinations."
   ]
  },
  {
   "cell_type": "code",
   "execution_count": 2,
   "metadata": {
    "collapsed": true
   },
   "outputs": [],
   "source": [
    "#Factorial function\n",
    "def factorial(n):\n",
    "    final_product = 1\n",
    "    for i in range(n, 0, -1):\n",
    "        final_product *= i\n",
    "    return final_product\n",
    "\n",
    "#Combination function\n",
    "def combinations(n, k):\n",
    "    numerator = factorial(n)\n",
    "    denominator = factorial(k) * factorial(n-k)\n",
    "    \n",
    "    return numerator/denominator\n"
   ]
  },
  {
   "cell_type": "markdown",
   "metadata": {},
   "source": [
    "In the 6/49 lottery, six numbers are drawn from a set of 49 numbers that range from 1 to 49. A player wins the big prize if the six numbers on their tickets match all the six numbers drawn. If only one number differs, he doesn't win.\n",
    "\n",
    "For the first version of the app, we want players to be able to calculate the probability of winning the big prize with the various numbers they play on a single ticket (for each ticket a player chooses six numbers out of 49). So, we'll start by building a function that calculates the probability of winning the big prize for any given ticket.\n",
    "\n",
    "We discussed with the engineering team of the medical institute, and they told us we need to be aware of the following details when we write the function:\n",
    "\n",
    "- Inside the app, the user inputs six different numbers from 1 to 49.\n",
    "- Under the hood, the six numbers will come as a Python list, which will serve as the single input to our function.\n",
    "- The engineering team wants the function to print the probability value in a friendly way— in a way that people without any probability training are able to understand.\n"
   ]
  },
  {
   "cell_type": "code",
   "execution_count": 3,
   "metadata": {
    "collapsed": true
   },
   "outputs": [],
   "source": [
    "#Creating function that calculated the probability of a user's 6 number combination.\n",
    "def one_ticket_probability(usr_6_nums):\n",
    "    num_possible_combos = combinations(49, 6)\n",
    "    one_ticket_prob = 1/num_possible_combos\n",
    "    percent_form = one_ticket_prob * 100\n",
    "    msg = \"The probability of your chosen combination {} is {: 7f}%. That means you have a 1 in {:,} chances of winning.\"\n",
    "    print(msg.format(usr_6_nums, percent_form, int(num_possible_combos)))"
   ]
  },
  {
   "cell_type": "code",
   "execution_count": 4,
   "metadata": {
    "collapsed": false
   },
   "outputs": [
    {
     "name": "stdout",
     "output_type": "stream",
     "text": [
      "The probability of your chosen combination [1, 2, 3, 4, 5, 6] is  0.000007%. That means you have a 1 in 13,983,816 chances of winning.\n"
     ]
    }
   ],
   "source": [
    "#Testing the one_ticket_probability function.\n",
    "test1_combos = [1, 2, 3, 4, 5, 6]\n",
    "one_ticket_probability(test1_combos)"
   ]
  },
  {
   "cell_type": "code",
   "execution_count": 5,
   "metadata": {
    "collapsed": true
   },
   "outputs": [],
   "source": [
    "#Print the number of rows and columns in the dataset."
   ]
  },
  {
   "cell_type": "markdown",
   "metadata": {
    "collapsed": true
   },
   "source": [
    "Time to open the 649 csv file and save it as a dataset in Pandas."
   ]
  },
  {
   "cell_type": "code",
   "execution_count": 6,
   "metadata": {
    "collapsed": false
   },
   "outputs": [
    {
     "name": "stdout",
     "output_type": "stream",
     "text": [
      "Number of rows: 3665\n",
      "Number of columns: 11\n"
     ]
    }
   ],
   "source": [
    "import pandas as pd\n",
    "\n",
    "#Opening the 649.csv file and saving it as a dataframe.\n",
    "lottery6_49 = pd.read_csv('649.csv')\n",
    "\n",
    "#Print the number of rows and columns in the dataset.\n",
    "print('Number of rows:', lottery6_49.shape[0])\n",
    "print('Number of columns:', lottery6_49.shape[1])"
   ]
  },
  {
   "cell_type": "code",
   "execution_count": 7,
   "metadata": {
    "collapsed": false
   },
   "outputs": [
    {
     "data": {
      "text/html": [
       "<div>\n",
       "<style scoped>\n",
       "    .dataframe tbody tr th:only-of-type {\n",
       "        vertical-align: middle;\n",
       "    }\n",
       "\n",
       "    .dataframe tbody tr th {\n",
       "        vertical-align: top;\n",
       "    }\n",
       "\n",
       "    .dataframe thead th {\n",
       "        text-align: right;\n",
       "    }\n",
       "</style>\n",
       "<table border=\"1\" class=\"dataframe\">\n",
       "  <thead>\n",
       "    <tr style=\"text-align: right;\">\n",
       "      <th></th>\n",
       "      <th>PRODUCT</th>\n",
       "      <th>DRAW NUMBER</th>\n",
       "      <th>SEQUENCE NUMBER</th>\n",
       "      <th>DRAW DATE</th>\n",
       "      <th>NUMBER DRAWN 1</th>\n",
       "      <th>NUMBER DRAWN 2</th>\n",
       "      <th>NUMBER DRAWN 3</th>\n",
       "      <th>NUMBER DRAWN 4</th>\n",
       "      <th>NUMBER DRAWN 5</th>\n",
       "      <th>NUMBER DRAWN 6</th>\n",
       "      <th>BONUS NUMBER</th>\n",
       "    </tr>\n",
       "  </thead>\n",
       "  <tbody>\n",
       "    <tr>\n",
       "      <th>0</th>\n",
       "      <td>649</td>\n",
       "      <td>1</td>\n",
       "      <td>0</td>\n",
       "      <td>6/12/1982</td>\n",
       "      <td>3</td>\n",
       "      <td>11</td>\n",
       "      <td>12</td>\n",
       "      <td>14</td>\n",
       "      <td>41</td>\n",
       "      <td>43</td>\n",
       "      <td>13</td>\n",
       "    </tr>\n",
       "    <tr>\n",
       "      <th>1</th>\n",
       "      <td>649</td>\n",
       "      <td>2</td>\n",
       "      <td>0</td>\n",
       "      <td>6/19/1982</td>\n",
       "      <td>8</td>\n",
       "      <td>33</td>\n",
       "      <td>36</td>\n",
       "      <td>37</td>\n",
       "      <td>39</td>\n",
       "      <td>41</td>\n",
       "      <td>9</td>\n",
       "    </tr>\n",
       "    <tr>\n",
       "      <th>2</th>\n",
       "      <td>649</td>\n",
       "      <td>3</td>\n",
       "      <td>0</td>\n",
       "      <td>6/26/1982</td>\n",
       "      <td>1</td>\n",
       "      <td>6</td>\n",
       "      <td>23</td>\n",
       "      <td>24</td>\n",
       "      <td>27</td>\n",
       "      <td>39</td>\n",
       "      <td>34</td>\n",
       "    </tr>\n",
       "  </tbody>\n",
       "</table>\n",
       "</div>"
      ],
      "text/plain": [
       "   PRODUCT  DRAW NUMBER  SEQUENCE NUMBER  DRAW DATE  NUMBER DRAWN 1  \\\n",
       "0      649            1                0  6/12/1982               3   \n",
       "1      649            2                0  6/19/1982               8   \n",
       "2      649            3                0  6/26/1982               1   \n",
       "\n",
       "   NUMBER DRAWN 2  NUMBER DRAWN 3  NUMBER DRAWN 4  NUMBER DRAWN 5  \\\n",
       "0              11              12              14              41   \n",
       "1              33              36              37              39   \n",
       "2               6              23              24              27   \n",
       "\n",
       "   NUMBER DRAWN 6  BONUS NUMBER  \n",
       "0              43            13  \n",
       "1              41             9  \n",
       "2              39            34  "
      ]
     },
     "execution_count": 7,
     "metadata": {},
     "output_type": "execute_result"
    }
   ],
   "source": [
    "#Exploring the first 3 rows of the dataset.\n",
    "lottery6_49.head(3)"
   ]
  },
  {
   "cell_type": "code",
   "execution_count": 8,
   "metadata": {
    "collapsed": false
   },
   "outputs": [
    {
     "data": {
      "text/html": [
       "<div>\n",
       "<style scoped>\n",
       "    .dataframe tbody tr th:only-of-type {\n",
       "        vertical-align: middle;\n",
       "    }\n",
       "\n",
       "    .dataframe tbody tr th {\n",
       "        vertical-align: top;\n",
       "    }\n",
       "\n",
       "    .dataframe thead th {\n",
       "        text-align: right;\n",
       "    }\n",
       "</style>\n",
       "<table border=\"1\" class=\"dataframe\">\n",
       "  <thead>\n",
       "    <tr style=\"text-align: right;\">\n",
       "      <th></th>\n",
       "      <th>PRODUCT</th>\n",
       "      <th>DRAW NUMBER</th>\n",
       "      <th>SEQUENCE NUMBER</th>\n",
       "      <th>DRAW DATE</th>\n",
       "      <th>NUMBER DRAWN 1</th>\n",
       "      <th>NUMBER DRAWN 2</th>\n",
       "      <th>NUMBER DRAWN 3</th>\n",
       "      <th>NUMBER DRAWN 4</th>\n",
       "      <th>NUMBER DRAWN 5</th>\n",
       "      <th>NUMBER DRAWN 6</th>\n",
       "      <th>BONUS NUMBER</th>\n",
       "    </tr>\n",
       "  </thead>\n",
       "  <tbody>\n",
       "    <tr>\n",
       "      <th>3662</th>\n",
       "      <td>649</td>\n",
       "      <td>3589</td>\n",
       "      <td>0</td>\n",
       "      <td>6/13/2018</td>\n",
       "      <td>6</td>\n",
       "      <td>22</td>\n",
       "      <td>24</td>\n",
       "      <td>31</td>\n",
       "      <td>32</td>\n",
       "      <td>34</td>\n",
       "      <td>16</td>\n",
       "    </tr>\n",
       "    <tr>\n",
       "      <th>3663</th>\n",
       "      <td>649</td>\n",
       "      <td>3590</td>\n",
       "      <td>0</td>\n",
       "      <td>6/16/2018</td>\n",
       "      <td>2</td>\n",
       "      <td>15</td>\n",
       "      <td>21</td>\n",
       "      <td>31</td>\n",
       "      <td>38</td>\n",
       "      <td>49</td>\n",
       "      <td>8</td>\n",
       "    </tr>\n",
       "    <tr>\n",
       "      <th>3664</th>\n",
       "      <td>649</td>\n",
       "      <td>3591</td>\n",
       "      <td>0</td>\n",
       "      <td>6/20/2018</td>\n",
       "      <td>14</td>\n",
       "      <td>24</td>\n",
       "      <td>31</td>\n",
       "      <td>35</td>\n",
       "      <td>37</td>\n",
       "      <td>48</td>\n",
       "      <td>17</td>\n",
       "    </tr>\n",
       "  </tbody>\n",
       "</table>\n",
       "</div>"
      ],
      "text/plain": [
       "      PRODUCT  DRAW NUMBER  SEQUENCE NUMBER  DRAW DATE  NUMBER DRAWN 1  \\\n",
       "3662      649         3589                0  6/13/2018               6   \n",
       "3663      649         3590                0  6/16/2018               2   \n",
       "3664      649         3591                0  6/20/2018              14   \n",
       "\n",
       "      NUMBER DRAWN 2  NUMBER DRAWN 3  NUMBER DRAWN 4  NUMBER DRAWN 5  \\\n",
       "3662              22              24              31              32   \n",
       "3663              15              21              31              38   \n",
       "3664              24              31              35              37   \n",
       "\n",
       "      NUMBER DRAWN 6  BONUS NUMBER  \n",
       "3662              34            16  \n",
       "3663              49             8  \n",
       "3664              48            17  "
      ]
     },
     "execution_count": 8,
     "metadata": {},
     "output_type": "execute_result"
    }
   ],
   "source": [
    "#Exploring the last 3 rows of the dataset.\n",
    "lottery6_49.tail(3)"
   ]
  },
  {
   "cell_type": "code",
   "execution_count": 9,
   "metadata": {
    "collapsed": false
   },
   "outputs": [
    {
     "data": {
      "text/plain": [
       "0    {3, 41, 11, 12, 43, 14}\n",
       "1    {33, 36, 37, 39, 8, 41}\n",
       "2     {1, 6, 39, 23, 24, 27}\n",
       "3     {3, 9, 10, 43, 13, 20}\n",
       "4    {34, 5, 14, 47, 21, 31}\n",
       "dtype: object"
      ]
     },
     "execution_count": 9,
     "metadata": {},
     "output_type": "execute_result"
    }
   ],
   "source": [
    "def extract_numbers(row):\n",
    "    row = row[4:10]\n",
    "    winning_nums = set(row)\n",
    "    return winning_nums\n",
    "\n",
    "winning_numbers = lottery6_49.apply(extract_numbers, axis=1)\n",
    "winning_numbers.head()"
   ]
  },
  {
   "cell_type": "code",
   "execution_count": 10,
   "metadata": {
    "collapsed": false
   },
   "outputs": [
    {
     "name": "stdout",
     "output_type": "stream",
     "text": [
      "Your number sequence{2, 5, 7, 13, 27, 31} never occurred. That does not mean it will never occur. The chances of {2, 5, 7, 13, 27, 31} occurring is still 0.0000072%\n"
     ]
    }
   ],
   "source": [
    "def check_historical_occurence(user_nums, winner_nums):\n",
    "    user_nums = set(user_nums)\n",
    "    winners = user_nums == winner_nums\n",
    "    wins = winners.sum()\n",
    "    if wins == 0:\n",
    "        print('Your number sequence{} never occurred. That does not mean it will never occur. The chances of {} occurring is still 0.0000072%'.format(user_nums, user_nums))\n",
    "    else:\n",
    "        print ('Your number sequence{} occurred {} times. That does not mean it will never occur. The chances of {} occurring is still 0.0000072%'.format(user_nums, wins, user_nums))\n",
    "    \n",
    "user_set1 = [2, 5, 7, 13, 27, 31]\n",
    "\n",
    "check_historical_occurence(user_set1, winning_numbers)\n",
    "    "
   ]
  },
  {
   "cell_type": "markdown",
   "metadata": {
    "collapsed": true
   },
   "source": [
    "# Computing the Multi-ticket probability.\n",
    "\n",
    "Lottery addicts usually play more than one ticket on a single drawing, thinking that this might increase their chances of winning significantly. Our purpose is to help them better estimate their chances of winning — on this screen, we're going to write a function that will allow the users to calculate the chances of winning for any number of different tickets.\n",
    "\n",
    "I've spoken with the engineering team and they gave us the following information:\n",
    "\n",
    "- The user will input the number of different tickets they want to play (without inputting the specific combinations they intend to play).\n",
    "- Our function will see an integer between 1 and 13,983,816 (the maximum number of different tickets).\n",
    "- The function should print information about the probability of winning the big prize depending on the number of different tickets played.\n"
   ]
  },
  {
   "cell_type": "code",
   "execution_count": 11,
   "metadata": {
    "collapsed": false
   },
   "outputs": [
    {
     "name": "stdout",
     "output_type": "stream",
     "text": [
      "The probability of you winning the big prize by purchasing 1 ticket is 0.0000072%. Which means you have a 1 in 13983816 chance of winning the big prize.\n",
      "The probability of you winning the big prize by purchasing 10 tickets is 0.000072%. Which means that you have a 1 in 1398382 chance of winning the big prize.\n",
      "The probability of you winning the big prize by purchasing 100 tickets is 0.000715%. Which means that you have a 1 in 139838 chance of winning the big prize.\n",
      "The probability of you winning the big prize by purchasing 10,000 tickets is 0.071511%. Which means that you have a 1 in 1398 chance of winning the big prize.\n",
      "The probability of you winning the big prize by purchasing 1,000,000 tickets is 7.151124%. Which means that you have a 1 in 14 chance of winning the big prize.\n",
      "The probability of you winning the big prize by purchasing 6,991,908 tickets is 50.000000%. Which means that you have a 1 in 2 chance of winning the big prize.\n",
      "The probability of you winning the big prize by purchasing 13,983,816 tickets is 100.000000%. Which means that you have a 1 in 1 chance of winning the big prize.\n"
     ]
    }
   ],
   "source": [
    "def multi_ticket_probability(n_tickets):\n",
    "    n_combos = combinations(49, 6)\n",
    "    prob_success = n_tickets / n_combos\n",
    "    success_pct_form = prob_success*100\n",
    "    prob_simplified = int(round((n_combos/n_tickets), 0))\n",
    "    \n",
    "    if n_tickets == 1:\n",
    "        msg = '''The probability of you winning the big prize by purchasing {:,} ticket is {:.7f}%. Which means you have a 1 in {} chance of winning the big prize.'''\n",
    "        \n",
    "    else:\n",
    "        msg = '''The probability of you winning the big prize by purchasing {:,} tickets is {:.6f}%. Which means that you have a 1 in {} chance of winning the big prize.'''\n",
    "   \n",
    "    print(msg.format(n_tickets, success_pct_form, prob_simplified))\n",
    "    \n",
    "test_inputs = [1, 10, 100, 10000, 1000000, 6991908, 13983816]\n",
    "\n",
    "for test in test_inputs:\n",
    "    multi_ticket_probability(test)"
   ]
  },
  {
   "cell_type": "markdown",
   "metadata": {},
   "source": [
    "# The Probability of finding 2, 3, 4, and 5 matching numbers. \n",
    "\n",
    "In most 6/49 lotteries there are smaller prizes if a player's ticket match two, three, four, or five of the six numbers drawn. As a consequence, the users might be interested in knowing the probability of having two, three, four, or five winning numbers.\n",
    "\n",
    "These are the engineering details we'll need to be aware of:\n",
    "- Inside the app, the user inputs:\n",
    "    - six different numbers from 1 to 49; and\n",
    "    - an integer between 2 and 5 that represents the number of winning numbers expected. \n",
    "  \n",
    "First we need to differentiate between these 2 probability questions:\n",
    "1. What is the probability of having exactly five winning numbers?\n",
    "2. What is the probability of having at least five winning numbers?\n",
    "\n"
   ]
  },
  {
   "cell_type": "code",
   "execution_count": 12,
   "metadata": {
    "collapsed": false
   },
   "outputs": [
    {
     "name": "stdout",
     "output_type": "stream",
     "text": [
      "The probability of your combination matching 2 out of a possible 6 number combinations is 13.2378029%. This means that you have a 1 in 8 chances of winning.\n",
      "-------------------------------------------------------------------------\n",
      "The probability of your combination matching 3 out of a possible 6 number combinations is 1.7650404%. This means that you have a 1 in 57 chances of winning.\n",
      "-------------------------------------------------------------------------\n",
      "The probability of your combination matching 4 out of a possible 6 number combinations is 0.0968620%. This means that you have a 1 in 1,032 chances of winning.\n",
      "-------------------------------------------------------------------------\n",
      "The probability of your combination matching 5 out of a possible 6 number combinations is 0.0018450%. This means that you have a 1 in 54,201 chances of winning.\n",
      "-------------------------------------------------------------------------\n"
     ]
    }
   ],
   "source": [
    "def probability_less_6(less_6_combo):\n",
    "    n_possibles_out_of_6 = combinations(6, less_6_combo) #prob out of 6 numbers\n",
    "    p_less_6 = combinations(43, 6-less_6_combo)\n",
    "    successful_outcomes = n_possibles_out_of_6 * p_less_6\n",
    "    \n",
    "    total_n_combos = combinations(49, 6)\n",
    "    probability = successful_outcomes/total_n_combos\n",
    "    \n",
    "    probability_perc = probability * 100\n",
    "    combos_simplified = round(total_n_combos/ successful_outcomes)\n",
    "    \n",
    "    msg = 'The probability of your combination matching {} out of a possible 6 number combinations is {:.7f}%. This means that you have a 1 in {:,} chances of winning.'\n",
    "    print(msg.format(less_6_combo, probability_perc, combos_simplified)) \n",
    "\n",
    "for i in range(2, 6):\n",
    "    probability_less_6(i)\n",
    "    print('-------------------------------------------------------------------------')\n",
    "\n",
    "    "
   ]
  },
  {
   "cell_type": "markdown",
   "metadata": {
    "collapsed": true
   },
   "source": [
    "# App Next Steps\n",
    "For the first version of our app, we've written four main functions for our app:\n",
    "- one_ticket_probability() — calculates the probability of winning the big prize with a single ticket.\n",
    "- check_historical_occurrence() — checks whether a certain combination has occurred in the Canada lottery data set.\n",
    "- multi_ticket_probability() — calculates the probability for any number of of tickets between 1 and 13,983,816.\n",
    "- probability_less_6() — calculates the probability of having two, three, four or five winning numbers\n",
    "\n",
    "Possible features for a second versin of the app include:\n",
    "- Making the outputs even easier to understand by adding fun analogies (for example, we can find probabilities for strange events and compare with the chances of winning in lottery; for instance, we can output something along the lines \"You are 100 times more likely to be the victim of a shark attack than winning the lottery\").\n",
    "- Combining the one_ticket_probability() and check_historical_occurrence() to output information on probability and historical occurrence at the same time.\n",
    "- Creating a function similar to probability_less_6() which calculates the probability of having at least two, three, four or five winning numbers. Hint: the number of successful outcomes for having at least four winning numbers is the sum of these three numbers:\n",
    "    - The number of successful outcomes for having four winning numbers exactly\n",
    "    - The number of successful outcomes for having five"
   ]
  },
  {
   "cell_type": "code",
   "execution_count": 18,
   "metadata": {
    "collapsed": false
   },
   "outputs": [
    {
     "name": "stdout",
     "output_type": "stream",
     "text": [
      "The probability of your combination matching 2 out of a possible 6 number combinations is 13.2378029%. This means that you have a 1 in 8 chances of winning.\n",
      "-------------------------------------------------------------------------\n",
      "The probability of your combination matching 3 out of a possible 6 number combinations is 1.7650404%. This means that you have a 1 in 57 chances of winning.\n",
      "-------------------------------------------------------------------------\n",
      "The probability of your combination matching 4 out of a possible 6 number combinations is 0.0968620%. This means that you have a 1 in 1,032 chances of winning.\n",
      "-------------------------------------------------------------------------\n",
      "The probability of your combination matching 5 out of a possible 6 number combinations is 0.0018450%. This means that you have a 1 in 54,201 chances of winning.\n",
      "-------------------------------------------------------------------------\n"
     ]
    }
   ],
   "source": [
    "strange_possibilities = {'struck by lightning': 700000, 'dying in a plane crash': 60000000\n",
    "                         , 'dying in a tornado':5000000, 'getting hit by a meteorite': 3000\n",
    "                         , 'getting killed by a shark':3700000}\n",
    "\n",
    "def probability_less_6(less_6_combo):\n",
    "    n_possibles_out_of_6 = combinations(6, less_6_combo) #prob out of 6 numbers\n",
    "    p_less_6 = combinations(43, 6-less_6_combo)\n",
    "    successful_outcomes = n_possibles_out_of_6 * p_less_6\n",
    "    \n",
    "    total_n_combos = combinations(49, 6)\n",
    "    probability = successful_outcomes/total_n_combos\n",
    "    \n",
    "    probability_perc = probability * 100\n",
    "    combos_simplified = round(total_n_combos/ successful_outcomes)\n",
    "    \n",
    "    if combos_simplified \n",
    "        msg = 'The probability of your combination matching {} out of a possible 6 number combinations is {:.7f}%. This means that you have a 1 in {:,} chances of winning.'\n",
    "        print(msg.format(less_6_combo, probability_perc, combos_simplified)) \n",
    "\n",
    "\n",
    "for i in range(2, 6):\n",
    "    probability_less_6(i)\n",
    "    print('-------------------------------------------------------------------------')\n",
    "\n",
    "    "
   ]
  },
  {
   "cell_type": "code",
   "execution_count": null,
   "metadata": {
    "collapsed": true
   },
   "outputs": [],
   "source": []
  }
 ],
 "metadata": {
  "kernelspec": {
   "display_name": "Python 3",
   "language": "python",
   "name": "python3"
  },
  "language_info": {
   "codemirror_mode": {
    "name": "ipython",
    "version": 3
   },
   "file_extension": ".py",
   "mimetype": "text/x-python",
   "name": "python",
   "nbconvert_exporter": "python",
   "pygments_lexer": "ipython3",
   "version": "3.4.3"
  }
 },
 "nbformat": 4,
 "nbformat_minor": 2
}
